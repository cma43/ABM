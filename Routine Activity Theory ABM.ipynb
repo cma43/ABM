{
 "cells": [
  {
   "cell_type": "markdown",
   "metadata": {},
   "source": [
    "First, if you just want to get right to running the ABM without any tweaks, here's the minimum you need to do:"
   ]
  },
  {
   "cell_type": "code",
   "execution_count": null,
   "metadata": {
    "collapsed": true
   },
   "outputs": [],
   "source": [
    "from Scratch import batch_scratch #If you just press play here, a very short version of the ABM runs -- 10 batches of 10 runs."
   ]
  },
  {
   "cell_type": "markdown",
   "metadata": {},
   "source": [
    "If you'd like to change how many runs and batches you'd like to do, here's what you need:"
   ]
  },
  {
   "cell_type": "code",
   "execution_count": null,
   "metadata": {
    "collapsed": true
   },
   "outputs": [],
   "source": [
    "from batch import batchManager\n",
    "\n",
    "#num_batches is the number of batches, and num_steps is the number of iterations \n",
    "#or the number of turns that occur before each batch is complete. \n",
    "#At the end of all batches, you should see heatmaps outputted of aggregate behaviors.\n",
    "\n",
    "bm = batchManager(num_batches=10, num_steps=10, do_animation=True) \n",
    "\n",
    "#This line is what actually runs the ABM once you've told the batch manager what you want.\n",
    "bm.start()"
   ]
  },
  {
   "cell_type": "markdown",
   "metadata": {},
   "source": [
    "Next, if you'd like to make other tweaks to agent behaviors, you need to make adjustments to how they the ABM is configured\n",
    "through the config file:"
   ]
  },
  {
   "cell_type": "code",
   "execution_count": null,
   "metadata": {
    "collapsed": true
   },
   "outputs": [],
   "source": [
    "from config import environ_config"
   ]
  },
  {
   "cell_type": "markdown",
   "metadata": {},
   "source": [
    "Here's where you can change parameters inside the environment configuration file we just imported:"
   ]
  },
  {
   "cell_type": "code",
   "execution_count": null,
   "metadata": {
    "collapsed": true
   },
   "outputs": [],
   "source": [
    "'''\n",
    "Configuration file for environmental parameters\n",
    "Load when instantiating environment variable\n",
    "'''\n",
    "\n",
    "environ_config.environ = {\n",
    "    'num_criminals':      10,  # number of criminals\n",
    "    'num_civilians':      10, # number of civilians\n",
    "    'num_police':         10,  # number of police\n",
    "    'resources_init_max_for_criminal': 25, #Maximum initial amount of resources a criminal can be endowed with\n",
    "    'resources_init_max_for_civilian': 100,#Maximum initial amount of resources a civilian can be endowed with\n",
    "    'crime_propensity_init_max': 25, #The initial maximum for an individual's propensity for committing a crime.\n",
    "    'crime_distance':     1,         #The maximum distance, in cells, between two agents in order for a crime to be committed\n",
    "    'agent_vision_limit': 1,   # Number of cells an agent can see around itself in a grid\n",
    "    'grid_width':         10,  # Width of grid/map in number of cells\n",
    "    'grid_height':        10,  # Height of grid/map in number of cells\n",
    "    'crime_propensity_threshold': 0,  # The propensity required to commit crimes or be a solo criminal\n",
    "    'police_dispatch': 'closest',  # 'random'/'closest' behavior for dispatching police to crime scenes:\n",
    "                                   #  random - police are randomly picked to respond to a crime\n",
    "                                   #  closest - police are picked to respond to a crime based on who is closest\n",
    "    'civilian_vision_radius': 3, #How many cells away a civilian can see\n",
    "    'police_vision_radius': 1,   #How many cells away a police agent can see\n",
    "    'police_arrest_probability': 1 #Once a police agent initiates an arrest attempt, the probability of success\n",
    "}\n"
   ]
  },
  {
   "cell_type": "markdown",
   "metadata": {},
   "source": [
    "After changing, you can run the ABM again by using the batch manager again:"
   ]
  },
  {
   "cell_type": "code",
   "execution_count": null,
   "metadata": {
    "collapsed": true
   },
   "outputs": [],
   "source": [
    "bm = batchManager(num_batches=10, num_steps=100) \n",
    "bm.start()"
   ]
  },
  {
   "cell_type": "markdown",
   "metadata": {},
   "source": [
    "Currently, for some reason Jupyter won't run the animations that are supposed to come up after the ABM runs, but \n",
    "stay tuned and we'll edit this notebook when we get it to work on Jupyter. "
   ]
  }
 ],
 "metadata": {
  "kernelspec": {
   "display_name": "Python 3",
   "language": "python",
   "name": "python3"
  },
  "language_info": {
   "codemirror_mode": {
    "name": "ipython",
    "version": 3
   },
   "file_extension": ".py",
   "mimetype": "text/x-python",
   "name": "python",
   "nbconvert_exporter": "python",
   "pygments_lexer": "ipython3",
   "version": "3.6.3"
  }
 },
 "nbformat": 4,
 "nbformat_minor": 2
}
